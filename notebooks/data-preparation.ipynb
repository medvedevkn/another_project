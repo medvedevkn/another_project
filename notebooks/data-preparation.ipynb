{
 "cells": [
  {
   "cell_type": "code",
   "execution_count": 246,
   "id": "06157605-04da-494e-a2e5-614c95889ad3",
   "metadata": {},
   "outputs": [],
   "source": [
    "import pandas as pd\n",
    "import numpy as np\n",
    "from tqdm import tqdm\n",
    "import torch\n",
    "from torch import nn\n",
    "import torch.nn.functional as F\n",
    "import torch.optim as optim\n",
    "from sklearn import model_selection\n",
    "from sklearn import metrics\n",
    "from sklearn.metrics import f1_score\n",
    "from sklearn.metrics import confusion_matrix, accuracy_score, classification_report"
   ]
  },
  {
   "cell_type": "code",
   "execution_count": 302,
   "id": "7499b6b0-12fd-4666-8bb7-949e31ffbae5",
   "metadata": {},
   "outputs": [
    {
     "data": {
      "text/plain": [
       "97308"
      ]
     },
     "execution_count": 302,
     "metadata": {},
     "output_type": "execute_result"
    }
   ],
   "source": [
    "df = pd.read_csv('dataset_241219.csv')\n",
    "len(df)"
   ]
  },
  {
   "cell_type": "code",
   "execution_count": 303,
   "id": "9661e98c-b0be-43e0-8dc3-66abfd383c14",
   "metadata": {},
   "outputs": [
    {
     "data": {
      "text/plain": [
       "Index(['date', 'adgroup_id', 'rn', 'impressions', 'bought', 'cost', 'sold',\n",
       "       'earned', 'cpa', 'rpc', 'profit', 'max_cpa', 'max_cpc',\n",
       "       'campaign_budget_amount', 'change_date_time', 'event_type', 'old_value',\n",
       "       'new_value', 'prior', 'change_rate', 'cat'],\n",
       "      dtype='object')"
      ]
     },
     "execution_count": 303,
     "metadata": {},
     "output_type": "execute_result"
    }
   ],
   "source": [
    "df.columns"
   ]
  },
  {
   "cell_type": "code",
   "execution_count": 304,
   "id": "d0908f94-29ef-4e21-bed0-b1afb2d56c28",
   "metadata": {},
   "outputs": [
    {
     "data": {
      "text/plain": [
       "event_type\n",
       "NO_CHANGE                                36037\n",
       "UPDATE_CAMPAIGN_BUDGET_AMOUNT            29293\n",
       "CREATE_CAMPAIGN_CRITERION_AD_SCHEDULE    14425\n",
       "UPDATE_CAMPAIGN                           9106\n",
       "UPDATE_AD_GROUP_TARGET_CPA                8180\n",
       "UPDATE_AD_GROUP_STATUS                     267\n",
       "Name: count, dtype: int64"
      ]
     },
     "execution_count": 304,
     "metadata": {},
     "output_type": "execute_result"
    }
   ],
   "source": [
    "df.event_type.value_counts()"
   ]
  },
  {
   "cell_type": "code",
   "execution_count": 305,
   "id": "2ccd42d6-e691-436d-8a5e-254f2452850a",
   "metadata": {},
   "outputs": [],
   "source": [
    "# Договорились пока скипать задание расписания\n",
    "df = df.loc[df.event_type != 'CREATE_CAMPAIGN_CRITERION_AD_SCHEDULE'].reset_index(drop=True)"
   ]
  },
  {
   "cell_type": "code",
   "execution_count": 306,
   "id": "56d489e2-57a5-4129-b991-5a71f8ef4244",
   "metadata": {},
   "outputs": [],
   "source": [
    "# Для 1 дня считаем пред значение стейта как \"без изменений\"\n",
    "df.loc[df.rn == 1, 'old_value'] = 'NO_CHANGE'"
   ]
  },
  {
   "cell_type": "code",
   "execution_count": 307,
   "id": "a0a3bd1b-eaa0-4401-857a-604a401db3ce",
   "metadata": {},
   "outputs": [
    {
     "name": "stderr",
     "output_type": "stream",
     "text": [
      "0it [00:00, ?it/s]C:\\Users\\croxw\\AppData\\Local\\Temp\\ipykernel_19736\\2833645154.py:5: FutureWarning: The behavior of DataFrame concatenation with empty or all-NA entries is deprecated. In a future version, this will no longer exclude empty or all-NA columns when determining the result dtypes. To retain the old behavior, exclude the relevant entries before the concat operation.\n",
      "  new_df = pd.concat([new_df, df.loc[(df.adgroup_id == adg) & (df.date == date)].reset_index(drop=True)[:1]])\n",
      "76055it [05:20, 236.99it/s]"
     ]
    },
    {
     "name": "stdout",
     "output_type": "stream",
     "text": [
      "76055\n"
     ]
    },
    {
     "name": "stderr",
     "output_type": "stream",
     "text": [
      "\n"
     ]
    }
   ],
   "source": [
    "# Здесь я убираю задвоенные даты по адгруппе согласно приоритету\n",
    "df = df.sort_values(by=['adgroup_id', 'date', 'rn', 'prior'])\n",
    "new_df = pd.DataFrame(columns=df.columns)\n",
    "dadg = df[['date', 'adgroup_id']].drop_duplicates().reset_index(drop=True)\n",
    "for date, adg in tqdm(zip(dadg['date'], dadg['adgroup_id'])):\n",
    "    new_df = pd.concat([new_df, df.loc[(df.adgroup_id == adg) & (df.date == date)].reset_index(drop=True)[:1]])\n",
    "print(len(new_df))\n",
    "new_df = new_df.reset_index()"
   ]
  },
  {
   "cell_type": "code",
   "execution_count": 308,
   "id": "48fa6033-cfd2-4ba7-ab78-b281dc15bb0d",
   "metadata": {
    "scrolled": true
   },
   "outputs": [
    {
     "data": {
      "text/html": [
       "<div>\n",
       "<style scoped>\n",
       "    .dataframe tbody tr th:only-of-type {\n",
       "        vertical-align: middle;\n",
       "    }\n",
       "\n",
       "    .dataframe tbody tr th {\n",
       "        vertical-align: top;\n",
       "    }\n",
       "\n",
       "    .dataframe thead th {\n",
       "        text-align: right;\n",
       "    }\n",
       "</style>\n",
       "<table border=\"1\" class=\"dataframe\">\n",
       "  <thead>\n",
       "    <tr style=\"text-align: right;\">\n",
       "      <th></th>\n",
       "      <th>index</th>\n",
       "      <th>date</th>\n",
       "      <th>adgroup_id</th>\n",
       "      <th>rn</th>\n",
       "      <th>impressions</th>\n",
       "      <th>bought</th>\n",
       "      <th>cost</th>\n",
       "      <th>sold</th>\n",
       "      <th>earned</th>\n",
       "      <th>cpa</th>\n",
       "      <th>...</th>\n",
       "      <th>max_cpa</th>\n",
       "      <th>max_cpc</th>\n",
       "      <th>campaign_budget_amount</th>\n",
       "      <th>change_date_time</th>\n",
       "      <th>event_type</th>\n",
       "      <th>old_value</th>\n",
       "      <th>new_value</th>\n",
       "      <th>prior</th>\n",
       "      <th>change_rate</th>\n",
       "      <th>cat</th>\n",
       "    </tr>\n",
       "  </thead>\n",
       "  <tbody>\n",
       "    <tr>\n",
       "      <th>0</th>\n",
       "      <td>0</td>\n",
       "      <td>2023-12-27</td>\n",
       "      <td>25358</td>\n",
       "      <td>1</td>\n",
       "      <td>914</td>\n",
       "      <td>49</td>\n",
       "      <td>3.0900</td>\n",
       "      <td>1</td>\n",
       "      <td>0.0764</td>\n",
       "      <td>0.063061</td>\n",
       "      <td>...</td>\n",
       "      <td>5.0</td>\n",
       "      <td>0.01</td>\n",
       "      <td>3.0</td>\n",
       "      <td>NaN</td>\n",
       "      <td>NO_CHANGE</td>\n",
       "      <td>NO_CHANGE</td>\n",
       "      <td>NaN</td>\n",
       "      <td>2</td>\n",
       "      <td>NaN</td>\n",
       "      <td>NaN</td>\n",
       "    </tr>\n",
       "    <tr>\n",
       "      <th>1</th>\n",
       "      <td>0</td>\n",
       "      <td>2023-12-28</td>\n",
       "      <td>25358</td>\n",
       "      <td>2</td>\n",
       "      <td>404</td>\n",
       "      <td>24</td>\n",
       "      <td>0.7100</td>\n",
       "      <td>3</td>\n",
       "      <td>1.5408</td>\n",
       "      <td>0.029583</td>\n",
       "      <td>...</td>\n",
       "      <td>5.0</td>\n",
       "      <td>0.01</td>\n",
       "      <td>3.0</td>\n",
       "      <td>2023-12-29 13:14:09</td>\n",
       "      <td>UPDATE_CAMPAIGN_BUDGET_AMOUNT</td>\n",
       "      <td>3</td>\n",
       "      <td>11</td>\n",
       "      <td>2</td>\n",
       "      <td>3.666667</td>\n",
       "      <td>UPDATE_CAMPAIGN_BUDGET_AMOUNT_UP</td>\n",
       "    </tr>\n",
       "    <tr>\n",
       "      <th>2</th>\n",
       "      <td>0</td>\n",
       "      <td>2023-12-29</td>\n",
       "      <td>25358</td>\n",
       "      <td>3</td>\n",
       "      <td>4157</td>\n",
       "      <td>308</td>\n",
       "      <td>10.8400</td>\n",
       "      <td>59</td>\n",
       "      <td>22.0487</td>\n",
       "      <td>0.035195</td>\n",
       "      <td>...</td>\n",
       "      <td>5.0</td>\n",
       "      <td>0.01</td>\n",
       "      <td>11.0</td>\n",
       "      <td>NaN</td>\n",
       "      <td>UPDATE_CAMPAIGN_BUDGET_AMOUNT</td>\n",
       "      <td>3.0000</td>\n",
       "      <td>11.0000</td>\n",
       "      <td>2</td>\n",
       "      <td>3.666667</td>\n",
       "      <td>UPDATE_CAMPAIGN_BUDGET_AMOUNT_UP</td>\n",
       "    </tr>\n",
       "    <tr>\n",
       "      <th>3</th>\n",
       "      <td>0</td>\n",
       "      <td>2023-12-30</td>\n",
       "      <td>25358</td>\n",
       "      <td>4</td>\n",
       "      <td>3950</td>\n",
       "      <td>338</td>\n",
       "      <td>10.7500</td>\n",
       "      <td>59</td>\n",
       "      <td>15.3252</td>\n",
       "      <td>0.031805</td>\n",
       "      <td>...</td>\n",
       "      <td>5.0</td>\n",
       "      <td>0.01</td>\n",
       "      <td>11.0</td>\n",
       "      <td>NaN</td>\n",
       "      <td>NO_CHANGE</td>\n",
       "      <td>NaN</td>\n",
       "      <td>NaN</td>\n",
       "      <td>2</td>\n",
       "      <td>NaN</td>\n",
       "      <td>NaN</td>\n",
       "    </tr>\n",
       "    <tr>\n",
       "      <th>4</th>\n",
       "      <td>0</td>\n",
       "      <td>2023-12-31</td>\n",
       "      <td>25358</td>\n",
       "      <td>5</td>\n",
       "      <td>3865</td>\n",
       "      <td>255</td>\n",
       "      <td>11.1800</td>\n",
       "      <td>50</td>\n",
       "      <td>8.1239</td>\n",
       "      <td>0.043843</td>\n",
       "      <td>...</td>\n",
       "      <td>5.0</td>\n",
       "      <td>0.01</td>\n",
       "      <td>11.0</td>\n",
       "      <td>NaN</td>\n",
       "      <td>NO_CHANGE</td>\n",
       "      <td>NaN</td>\n",
       "      <td>NaN</td>\n",
       "      <td>2</td>\n",
       "      <td>NaN</td>\n",
       "      <td>NaN</td>\n",
       "    </tr>\n",
       "    <tr>\n",
       "      <th>...</th>\n",
       "      <td>...</td>\n",
       "      <td>...</td>\n",
       "      <td>...</td>\n",
       "      <td>...</td>\n",
       "      <td>...</td>\n",
       "      <td>...</td>\n",
       "      <td>...</td>\n",
       "      <td>...</td>\n",
       "      <td>...</td>\n",
       "      <td>...</td>\n",
       "      <td>...</td>\n",
       "      <td>...</td>\n",
       "      <td>...</td>\n",
       "      <td>...</td>\n",
       "      <td>...</td>\n",
       "      <td>...</td>\n",
       "      <td>...</td>\n",
       "      <td>...</td>\n",
       "      <td>...</td>\n",
       "      <td>...</td>\n",
       "      <td>...</td>\n",
       "    </tr>\n",
       "    <tr>\n",
       "      <th>76050</th>\n",
       "      <td>0</td>\n",
       "      <td>2024-12-18</td>\n",
       "      <td>138885</td>\n",
       "      <td>1</td>\n",
       "      <td>106</td>\n",
       "      <td>8</td>\n",
       "      <td>1.2135</td>\n",
       "      <td>1</td>\n",
       "      <td>0.1261</td>\n",
       "      <td>0.151688</td>\n",
       "      <td>...</td>\n",
       "      <td>0.0</td>\n",
       "      <td>0.00</td>\n",
       "      <td>1.0</td>\n",
       "      <td>NaN</td>\n",
       "      <td>NO_CHANGE</td>\n",
       "      <td>NO_CHANGE</td>\n",
       "      <td>NaN</td>\n",
       "      <td>2</td>\n",
       "      <td>NaN</td>\n",
       "      <td>NaN</td>\n",
       "    </tr>\n",
       "    <tr>\n",
       "      <th>76051</th>\n",
       "      <td>0</td>\n",
       "      <td>2024-12-18</td>\n",
       "      <td>138886</td>\n",
       "      <td>1</td>\n",
       "      <td>364</td>\n",
       "      <td>11</td>\n",
       "      <td>1.0657</td>\n",
       "      <td>1</td>\n",
       "      <td>0.0820</td>\n",
       "      <td>0.096882</td>\n",
       "      <td>...</td>\n",
       "      <td>0.0</td>\n",
       "      <td>0.00</td>\n",
       "      <td>1.0</td>\n",
       "      <td>NaN</td>\n",
       "      <td>NO_CHANGE</td>\n",
       "      <td>NO_CHANGE</td>\n",
       "      <td>NaN</td>\n",
       "      <td>2</td>\n",
       "      <td>NaN</td>\n",
       "      <td>NaN</td>\n",
       "    </tr>\n",
       "    <tr>\n",
       "      <th>76052</th>\n",
       "      <td>0</td>\n",
       "      <td>2024-12-18</td>\n",
       "      <td>138887</td>\n",
       "      <td>1</td>\n",
       "      <td>111</td>\n",
       "      <td>9</td>\n",
       "      <td>1.1086</td>\n",
       "      <td>2</td>\n",
       "      <td>0.0875</td>\n",
       "      <td>0.123178</td>\n",
       "      <td>...</td>\n",
       "      <td>0.0</td>\n",
       "      <td>0.00</td>\n",
       "      <td>1.0</td>\n",
       "      <td>NaN</td>\n",
       "      <td>NO_CHANGE</td>\n",
       "      <td>NO_CHANGE</td>\n",
       "      <td>NaN</td>\n",
       "      <td>2</td>\n",
       "      <td>NaN</td>\n",
       "      <td>NaN</td>\n",
       "    </tr>\n",
       "    <tr>\n",
       "      <th>76053</th>\n",
       "      <td>0</td>\n",
       "      <td>2024-12-18</td>\n",
       "      <td>138888</td>\n",
       "      <td>1</td>\n",
       "      <td>244</td>\n",
       "      <td>7</td>\n",
       "      <td>1.0294</td>\n",
       "      <td>1</td>\n",
       "      <td>0.1893</td>\n",
       "      <td>0.147057</td>\n",
       "      <td>...</td>\n",
       "      <td>0.0</td>\n",
       "      <td>0.00</td>\n",
       "      <td>1.0</td>\n",
       "      <td>NaN</td>\n",
       "      <td>NO_CHANGE</td>\n",
       "      <td>NO_CHANGE</td>\n",
       "      <td>NaN</td>\n",
       "      <td>2</td>\n",
       "      <td>NaN</td>\n",
       "      <td>NaN</td>\n",
       "    </tr>\n",
       "    <tr>\n",
       "      <th>76054</th>\n",
       "      <td>0</td>\n",
       "      <td>2024-12-18</td>\n",
       "      <td>138889</td>\n",
       "      <td>1</td>\n",
       "      <td>298</td>\n",
       "      <td>14</td>\n",
       "      <td>1.2104</td>\n",
       "      <td>2</td>\n",
       "      <td>0.3492</td>\n",
       "      <td>0.086457</td>\n",
       "      <td>...</td>\n",
       "      <td>0.0</td>\n",
       "      <td>0.00</td>\n",
       "      <td>1.0</td>\n",
       "      <td>NaN</td>\n",
       "      <td>NO_CHANGE</td>\n",
       "      <td>NO_CHANGE</td>\n",
       "      <td>NaN</td>\n",
       "      <td>2</td>\n",
       "      <td>NaN</td>\n",
       "      <td>NaN</td>\n",
       "    </tr>\n",
       "  </tbody>\n",
       "</table>\n",
       "<p>76055 rows × 22 columns</p>\n",
       "</div>"
      ],
      "text/plain": [
       "       index        date adgroup_id rn impressions bought     cost sold  \\\n",
       "0          0  2023-12-27      25358  1         914     49   3.0900    1   \n",
       "1          0  2023-12-28      25358  2         404     24   0.7100    3   \n",
       "2          0  2023-12-29      25358  3        4157    308  10.8400   59   \n",
       "3          0  2023-12-30      25358  4        3950    338  10.7500   59   \n",
       "4          0  2023-12-31      25358  5        3865    255  11.1800   50   \n",
       "...      ...         ...        ... ..         ...    ...      ...  ...   \n",
       "76050      0  2024-12-18     138885  1         106      8   1.2135    1   \n",
       "76051      0  2024-12-18     138886  1         364     11   1.0657    1   \n",
       "76052      0  2024-12-18     138887  1         111      9   1.1086    2   \n",
       "76053      0  2024-12-18     138888  1         244      7   1.0294    1   \n",
       "76054      0  2024-12-18     138889  1         298     14   1.2104    2   \n",
       "\n",
       "        earned       cpa  ...  max_cpa  max_cpc  campaign_budget_amount  \\\n",
       "0       0.0764  0.063061  ...      5.0     0.01                     3.0   \n",
       "1       1.5408  0.029583  ...      5.0     0.01                     3.0   \n",
       "2      22.0487  0.035195  ...      5.0     0.01                    11.0   \n",
       "3      15.3252  0.031805  ...      5.0     0.01                    11.0   \n",
       "4       8.1239  0.043843  ...      5.0     0.01                    11.0   \n",
       "...        ...       ...  ...      ...      ...                     ...   \n",
       "76050   0.1261  0.151688  ...      0.0     0.00                     1.0   \n",
       "76051   0.0820  0.096882  ...      0.0     0.00                     1.0   \n",
       "76052   0.0875  0.123178  ...      0.0     0.00                     1.0   \n",
       "76053   0.1893  0.147057  ...      0.0     0.00                     1.0   \n",
       "76054   0.3492  0.086457  ...      0.0     0.00                     1.0   \n",
       "\n",
       "          change_date_time                     event_type  old_value  \\\n",
       "0                      NaN                      NO_CHANGE  NO_CHANGE   \n",
       "1      2023-12-29 13:14:09  UPDATE_CAMPAIGN_BUDGET_AMOUNT          3   \n",
       "2                      NaN  UPDATE_CAMPAIGN_BUDGET_AMOUNT     3.0000   \n",
       "3                      NaN                      NO_CHANGE        NaN   \n",
       "4                      NaN                      NO_CHANGE        NaN   \n",
       "...                    ...                            ...        ...   \n",
       "76050                  NaN                      NO_CHANGE  NO_CHANGE   \n",
       "76051                  NaN                      NO_CHANGE  NO_CHANGE   \n",
       "76052                  NaN                      NO_CHANGE  NO_CHANGE   \n",
       "76053                  NaN                      NO_CHANGE  NO_CHANGE   \n",
       "76054                  NaN                      NO_CHANGE  NO_CHANGE   \n",
       "\n",
       "      new_value prior change_rate                               cat  \n",
       "0           NaN     2         NaN                               NaN  \n",
       "1            11     2    3.666667  UPDATE_CAMPAIGN_BUDGET_AMOUNT_UP  \n",
       "2       11.0000     2    3.666667  UPDATE_CAMPAIGN_BUDGET_AMOUNT_UP  \n",
       "3           NaN     2         NaN                               NaN  \n",
       "4           NaN     2         NaN                               NaN  \n",
       "...         ...   ...         ...                               ...  \n",
       "76050       NaN     2         NaN                               NaN  \n",
       "76051       NaN     2         NaN                               NaN  \n",
       "76052       NaN     2         NaN                               NaN  \n",
       "76053       NaN     2         NaN                               NaN  \n",
       "76054       NaN     2         NaN                               NaN  \n",
       "\n",
       "[76055 rows x 22 columns]"
      ]
     },
     "execution_count": 308,
     "metadata": {},
     "output_type": "execute_result"
    }
   ],
   "source": [
    "new_df"
   ]
  },
  {
   "cell_type": "code",
   "execution_count": 310,
   "id": "fbbabadc-c460-4167-bb8f-d1a1f5a2ac59",
   "metadata": {},
   "outputs": [
    {
     "name": "stderr",
     "output_type": "stream",
     "text": [
      "76055it [00:17, 4359.95it/s]\n"
     ]
    }
   ],
   "source": [
    "# Здесь размечаю стейт стратегии группы (если в какой-то момент был изменена стратегия на TARGET_CPA, то последующие записи должны иметь соответствующий стейт стратегии)\n",
    "max_conv = [1] * len(new_df)\n",
    "for index, row in tqdm(new_df[['adgroup_id', 'new_value']].iterrows()):\n",
    "    if row['new_value'] == 'TARGET_CPA':\n",
    "        adg = row['adgroup_id']\n",
    "        ind = index\n",
    "        if len(new_df.loc[(new_df.new_value == 'MAXIMIZE_CONVERSIONS') & (new_df.index > ind) & (new_df.adgroup_id == adg)]) > 0:\n",
    "            max_ind = min(max(new_df.loc[new_df.adgroup_id==adg].index), min(new_df.loc[(new_df.new_value == 'MAXIMIZE_CONVERSIONS') & (new_df.index > ind) & (new_df.adgroup_id == adg)].index))\n",
    "        else:\n",
    "            max_ind = max(new_df.loc[new_df.adgroup_id==adg].index)\n",
    "        for i in range(ind, max_ind):\n",
    "            max_conv[i] = 0\n",
    "new_df['is_max_conversion'] = max_conv"
   ]
  },
  {
   "cell_type": "code",
   "execution_count": 311,
   "id": "ffe2ff93-8725-4520-8bb3-b2b9311630fb",
   "metadata": {},
   "outputs": [],
   "source": [
    "# Разметка категории стратегии\n",
    "new_df.loc[new_df.new_value == 'TARGET_CPA', 'cat'] = 'STRATEGY_CPA'\n",
    "new_df.loc[new_df.new_value == 'MAXIMIZE_CONVERSIONS', 'cat'] = 'STRATEGY_CONVERSION'"
   ]
  },
  {
   "cell_type": "code",
   "execution_count": null,
   "id": "0d89d9b6-3b96-4136-8cd8-bcfcd4bc60dc",
   "metadata": {},
   "outputs": [],
   "source": [
    "new_df.loc[new_df.new_value == 'TARGET_CPA', 'is_max_conversion'] = 1\n",
    "new_df.loc[new_df.new_value == 'MAXIMIZE_CONVERSIONS', 'is_max_conversion'] = 0"
   ]
  },
  {
   "cell_type": "code",
   "execution_count": 385,
   "id": "83636ed4-811b-407f-8995-77b0b369501d",
   "metadata": {},
   "outputs": [],
   "source": [
    "df = new_df"
   ]
  },
  {
   "cell_type": "code",
   "execution_count": 386,
   "id": "a6acc1bc-ecec-499d-b2f5-058003f46bef",
   "metadata": {},
   "outputs": [],
   "source": [
    "df[\"event_lagged\"] = df.event_type.shift(1)\n",
    "df['target'] = df['cat'].combine_first(df['event_type'])"
   ]
  },
  {
   "cell_type": "code",
   "execution_count": 387,
   "id": "b2acc180-687f-4c25-ae37-193d1ca294c8",
   "metadata": {},
   "outputs": [
    {
     "data": {
      "text/plain": [
       "target\n",
       "NO_CHANGE                             36037\n",
       "UPDATE_CAMPAIGN_BUDGET_AMOUNT_UP      22735\n",
       "UPDATE_CAMPAIGN                        6007\n",
       "STRATEGY_CPA                           2894\n",
       "UPDATE_AD_GROUP_TARGET_CPA_UP          2858\n",
       "UPDATE_CAMPAIGN_BUDGET_AMOUNT_DOWN     2738\n",
       "UPDATE_AD_GROUP_TARGET_CPA_DOWN        2522\n",
       "UPDATE_AD_GROUP_STATUS                  217\n",
       "STRATEGY_CONVERSION                      40\n",
       "UPDATE_CAMPAIGN_BUDGET_AMOUNT             7\n",
       "Name: count, dtype: int64"
      ]
     },
     "execution_count": 387,
     "metadata": {},
     "output_type": "execute_result"
    }
   ],
   "source": [
    "df.target.value_counts()"
   ]
  },
  {
   "cell_type": "code",
   "execution_count": 388,
   "id": "8d4a5026-5486-4daf-b36d-071712119979",
   "metadata": {},
   "outputs": [],
   "source": [
    "ndf = df.loc[~( ((df.event_type == 'CREATE_AD_GROUP') | (df.event_type == 'CREATE_CAMPAIGN_CRITERION_AD_SCHEDULE') | (df.event_type == 'UPDATE_AD_GROUP_STATUS')) | ((df.event_type == 'UPDATE_AD_GROUP_STATUS') & (df.event_lagged == 'CREATE_AD_GROUP')) | (df.event_type == 'CREATE_AD_GROUP') )][['adgroup_id', 'date', 'impressions', 'bought', 'cost', 'sold', 'earned', 'profit', 'max_cpa', 'max_cpc', 'campaign_budget_amount', 'rn', 'is_max_conversion', 'target']].reset_index(drop=True)\n",
    "ndf = ndf.loc[ndf.target != 'UPDATE_CAMPAIGN_BUDGET_AMOUNT'].reset_index(drop=True)"
   ]
  },
  {
   "cell_type": "code",
   "execution_count": null,
   "id": "a0453ef1-b660-4977-aacc-4b13db4ab479",
   "metadata": {},
   "outputs": [],
   "source": [
    "ndf['cum_profit'] = ndf.groupby('adgroup_id')['profit'].cumsum()\n",
    "ndf['campaign_budget_amount'] = ndf['campaign_budget_amount'].fillna(5.0)\n",
    "ndf['cost_rate'] = ndf['cost'] / ndf['campaign_budget_amount']\n",
    "shifted = ndf.groupby(\"adgroup_id\")['profit'].shift(1)\n",
    "shifted_impr = ndf.groupby(\"adgroup_id\")['impressions'].shift(1)\n",
    "shifted_tgt= ndf.groupby(\"adgroup_id\")['target'].shift(1)\n",
    "shifted_cpa = ndf.groupby(\"adgroup_id\")['max_cpa'].shift(1)\n",
    "shifted_budget= ndf.groupby(\"adgroup_id\")['campaign_budget_amount'].shift(1)\n",
    "#ndf['impr'] = np.log(ndf['impressions'])\n",
    "ndf['profit_lag'] = shifted\n",
    "ndf['impressions_lag'] = shifted_impr\n",
    "ndf['tgt_lag'] = shifted_tgt\n",
    "ndf['profit_dif'] = (ndf['profit'] - ndf['profit_lag']) / (ndf['cum_profit'])\n",
    "ndf['profit_rate'] = ndf['profit'] / ndf['cum_profit']\n",
    "ndf['impr_dynamic'] = (ndf['impressions'] - ndf['impressions_lag']) / 1e3\n",
    "ndf['profit_dif'] = ndf['profit_dif'].fillna(0.15)\n",
    "ndf['impr_dynamic'] = ndf['impr_dynamic'].fillna(0.01)\n",
    "ndf['profit_cond'] = ndf['profit'].apply(lambda x: 1 if x > 15 else 0)\n",
    "\n",
    "ndf = pd.get_dummies(ndf, columns=['tgt_lag'], dtype=int)\n",
    "\n",
    "def mark_cpa(a,b,c):\n",
    "    return 1 if a<0 and b>0 and c>5 else 0\n",
    "def mark_impr(a,b,c):\n",
    "    return 1 if a<10000 and b>5 and c>5 else 0\n",
    "\n",
    "ndf['cpa_flag'] = ndf.apply(lambda x: mark_cpa(x['profit_dif'], x['impr_dynamic'], x['rn']), axis=1)\n",
    "ndf['impr_flag'] = ndf.apply(lambda x: mark_impr(x['impressions'], x['profit'], x['rn']), axis=1)"
   ]
  },
  {
   "cell_type": "code",
   "execution_count": null,
   "id": "2aea1863-69d1-4889-b4a3-c18e7b013164",
   "metadata": {},
   "outputs": [],
   "source": [
    "shifted_costrate = ndf.groupby(\"adgroup_id\")['cost_rate'].shift(1)\n",
    "ndf['cost_rate_lag'] = shifted_costrate\n",
    "ndf['cost_rate_dynamic'] = ndf['cost_rate_lag'] - ndf['cost_rate']\n",
    "ndf['cost_rate_dynamic'] = ndf['cost_rate_dynamic'].fillna(0.15)\n",
    "ndf['cost_rate_lag'] = ndf['cost_rate_lag'].fillna(0)\n",
    "\n",
    "ndf['max_cpa'] = ndf['max_cpa'].fillna(method='bfill')\n",
    "ndf['max_cpc'] = ndf['max_cpc'].fillna(method='bfill')\n",
    "ndf['profit_rate'] = ndf['profit_rate'].fillna(0)"
   ]
  },
  {
   "cell_type": "code",
   "execution_count": 391,
   "id": "4cf131d1-a0dd-46d1-825a-0865d3bb1525",
   "metadata": {},
   "outputs": [],
   "source": [
    "ind = ndf.loc[ndf.rn.isin([1,2,3])].index\n",
    "ndf['is_first_days'] = 0\n",
    "ndf.loc[ndf.index.isin(ind), 'is_first_days'] = 1"
   ]
  },
  {
   "cell_type": "code",
   "execution_count": 425,
   "id": "1fbc9c88-3d7b-4ef0-803e-9109256e5cbd",
   "metadata": {},
   "outputs": [
    {
     "data": {
      "text/plain": [
       "Index(['impressions', 'impr_dynamic', 'cpa_flag', 'impr_flag', 'bought',\n",
       "       'cost', 'sold', 'earned', 'profit', 'profit_cond', 'cost_rate',\n",
       "       'cost_rate_dynamic', 'profit_dif', 'profit_rate', 'cum_profit',\n",
       "       'max_cpa', 'max_cpc', 'rn', 'is_first_days', 'campaign_budget_amount',\n",
       "       'is_max_conversion', 'tgt_lag_NO_CHANGE',\n",
       "       'tgt_lag_UPDATE_AD_GROUP_TARGET_CPA_DOWN',\n",
       "       'tgt_lag_UPDATE_AD_GROUP_TARGET_CPA_UP',\n",
       "       'tgt_lag_UPDATE_CAMPAIGN_BUDGET_AMOUNT_DOWN',\n",
       "       'tgt_lag_UPDATE_CAMPAIGN_BUDGET_AMOUNT_UP'],\n",
       "      dtype='object')"
      ]
     },
     "execution_count": 425,
     "metadata": {},
     "output_type": "execute_result"
    }
   ],
   "source": [
    "X.columns"
   ]
  },
  {
   "cell_type": "markdown",
   "id": "2e5e64fc-80bd-444b-b593-700b85a877ed",
   "metadata": {},
   "source": [
    "               Коротенько про атрибуты\n",
    "is_max_conversion - флаг текущей стратегии группы\n",
    "target - действие, которое будет совершено по итогам текущего дня\n",
    "cum_profit - куммулятивный профит с момента запуска группы\n",
    "cost_rate - оценка затрат группы относительно размера бюджета кампании\n",
    "cost_rate_dynamic - cost_rate в динамике\n",
    "profit_dif - динамическая оценка профита в динамике\n",
    "profit_rate - отношение профита к куммулятивному профиту\n",
    "impr_dynamic - динамическая оценка impressions в динамике\n",
    "is_first_days - является ли текущий день одним из первых трех дней группы\n",
    "tgt_lag_NO_CHANGE и прочие подобные - значение таргета за предыдущий день"
   ]
  },
  {
   "cell_type": "code",
   "execution_count": 392,
   "id": "4748d3e5-f37e-476b-86c3-833a1f4b9376",
   "metadata": {},
   "outputs": [
    {
     "data": {
      "text/plain": [
       "{'NO_CHANGE': 0,\n",
       " 'UPDATE_CAMPAIGN_BUDGET_AMOUNT_UP': 1,\n",
       " 'UPDATE_CAMPAIGN': 2,\n",
       " 'STRATEGY_CPA': 3,\n",
       " 'UPDATE_AD_GROUP_TARGET_CPA_UP': 4,\n",
       " 'UPDATE_CAMPAIGN_BUDGET_AMOUNT_DOWN': 5,\n",
       " 'UPDATE_AD_GROUP_TARGET_CPA_DOWN': 6,\n",
       " 'STRATEGY_CONVERSION': 7}"
      ]
     },
     "execution_count": 392,
     "metadata": {},
     "output_type": "execute_result"
    }
   ],
   "source": [
    "cl = dict(zip(list(ndf['target'].value_counts().keys()), range(len(ndf['target'].value_counts()))))\n",
    "mapping = dict(zip(list(ndf['target'].value_counts().keys()), range(len(ndf['target'].value_counts()))))\n",
    "mapping"
   ]
  },
  {
   "cell_type": "code",
   "execution_count": null,
   "id": "084e3bd6-e0db-44cd-9ed0-fe8c5e320aff",
   "metadata": {},
   "outputs": [],
   "source": [
    "# По названию классов можно понять что они означают кроме UPDATE_CAMPAIGN. Фактически, это пауза группы"
   ]
  },
  {
   "cell_type": "code",
   "execution_count": 423,
   "id": "aa1e98b0-b3ba-4689-ae94-4c4d4a405712",
   "metadata": {},
   "outputs": [],
   "source": [
    "ndf.to_csv('dataset_final.csv', index=False)"
   ]
  },
  {
   "cell_type": "code",
   "execution_count": 136,
   "id": "2ccd8cdf-a955-469b-bc13-7bc3fbea8775",
   "metadata": {},
   "outputs": [],
   "source": [
    "# MODEL"
   ]
  },
  {
   "cell_type": "code",
   "execution_count": 331,
   "id": "c40800c2-5fe1-4c51-8b68-11d0a1563a6e",
   "metadata": {},
   "outputs": [],
   "source": [
    "class model(nn.Module):\n",
    "    def __init__(self, input_size, hidden_size, num_classes):\n",
    "        super(model, self).__init__()\n",
    "        self.l1 = nn.Linear(input_size, hidden_size) \n",
    "        self.sigmoid = nn.Sigmoid()\n",
    "        self.l2 = nn.Linear(hidden_size, hidden_size * 3) \n",
    "        self.relu = nn.ReLU()\n",
    "        self.l3 = nn.Linear(hidden_size * 3, hidden_size * 5) \n",
    "        self.tan = nn.ReLU()\n",
    "        self.drop = nn.Dropout(0.1)\n",
    "        self.l4 = nn.Linear(hidden_size * 5, hidden_size * 3) \n",
    "        self.relu = nn.ReLU()\n",
    "        self.l5 = nn.Linear(hidden_size * 3, num_classes)   \n",
    "\n",
    "    def forward(self, x):\n",
    "        out = self.l1(x)\n",
    "        out = self.sigmoid(out)\n",
    "        out = self.l2(out)\n",
    "        out = self.tan(out)\n",
    "        out = self.l3(out)\n",
    "        out = self.relu(out)\n",
    "        out = self.drop(out)\n",
    "        out = self.l4(out)\n",
    "        out = self.relu(out)\n",
    "        out = self.l5(out)\n",
    "        return out "
   ]
  },
  {
   "cell_type": "code",
   "execution_count": 329,
   "id": "7fde8dd6-76de-47b0-8b01-0ef2f9b5b988",
   "metadata": {},
   "outputs": [],
   "source": [
    "ndf.loc[(ndf.is_max_conversion==1) & ((ndf.target == 'UPDATE_AD_GROUP_TARGET_CPA_UP') | (ndf.target == 'UPDATE_AD_GROUP_TARGET_CPA_DOWN')), 'target'] = 'NO_CHANGE'"
   ]
  },
  {
   "cell_type": "code",
   "execution_count": 381,
   "id": "e61095d0-ac86-4274-9e38-3215d4f3bc8a",
   "metadata": {},
   "outputs": [],
   "source": []
  },
  {
   "cell_type": "code",
   "execution_count": null,
   "id": "e0f83622-6d29-432c-b4dc-6c8adcb9c88a",
   "metadata": {},
   "outputs": [],
   "source": [
    "new_df.loc[(new_df.target == 'TARGET_CPA')&(new_df.is_max_conversion==0, 'cat'] = 'STRATEGY_CPA'\n",
    "new_df.loc[new_df.new_value == 'MAXIMIZE_CONVERSIONS', 'cat'] = 'STRATEGY_CONVERSION'"
   ]
  },
  {
   "cell_type": "code",
   "execution_count": 394,
   "id": "51d47aff-426b-4c4b-a227-d31ac0b4e81e",
   "metadata": {},
   "outputs": [
    {
     "data": {
      "text/plain": [
       "{'NO_CHANGE': 0,\n",
       " 'UPDATE_CAMPAIGN_BUDGET_AMOUNT_UP': 1,\n",
       " 'UPDATE_CAMPAIGN': 2,\n",
       " 'STRATEGY_CPA': 3,\n",
       " 'UPDATE_AD_GROUP_TARGET_CPA_UP': 4,\n",
       " 'UPDATE_CAMPAIGN_BUDGET_AMOUNT_DOWN': 5,\n",
       " 'UPDATE_AD_GROUP_TARGET_CPA_DOWN': 6,\n",
       " 'STRATEGY_CONVERSION': 7}"
      ]
     },
     "execution_count": 394,
     "metadata": {},
     "output_type": "execute_result"
    }
   ],
   "source": [
    "cl"
   ]
  },
  {
   "cell_type": "code",
   "execution_count": 138,
   "id": "cd36084c-5142-4564-9e75-e7331cfe9529",
   "metadata": {},
   "outputs": [
    {
     "data": {
      "text/plain": [
       "device(type='cuda')"
      ]
     },
     "execution_count": 138,
     "metadata": {},
     "output_type": "execute_result"
    }
   ],
   "source": [
    "device = torch.device(\"cuda\" if torch.cuda.is_available() else \"cpu\")\n",
    "device"
   ]
  },
  {
   "cell_type": "markdown",
   "id": "c8491d65-faff-442e-98d8-25d0c94e4232",
   "metadata": {},
   "source": [
    "my_model = model(26, 42, 8).to(device)\n",
    "my_model.load_state_dict(torch.load('model/model.pth'))"
   ]
  },
  {
   "cell_type": "code",
   "execution_count": 395,
   "id": "11bb2fbd-f9fe-4d3d-9079-51b6f77f47cb",
   "metadata": {},
   "outputs": [],
   "source": [
    "features = ['impressions', 'impr_dynamic', 'cpa_flag', 'impr_flag', 'bought', 'cost', 'sold', \n",
    "            'earned', 'profit', 'profit_cond', 'cost_rate', 'cost_rate_dynamic', 'profit_dif', 'profit_rate', \n",
    "            'cum_profit', 'max_cpa', 'max_cpc', 'rn', 'is_first_days', 'campaign_budget_amount', 'is_max_conversion',\n",
    "       'tgt_lag_NO_CHANGE', \n",
    "       'tgt_lag_UPDATE_AD_GROUP_TARGET_CPA_DOWN',\n",
    "       'tgt_lag_UPDATE_AD_GROUP_TARGET_CPA_UP',\n",
    "       'tgt_lag_UPDATE_CAMPAIGN_BUDGET_AMOUNT_DOWN',\n",
    "       'tgt_lag_UPDATE_CAMPAIGN_BUDGET_AMOUNT_UP', 'target']"
   ]
  },
  {
   "cell_type": "code",
   "execution_count": 396,
   "id": "90492bea-ee09-4cd6-bb50-9503e2bebe05",
   "metadata": {},
   "outputs": [],
   "source": [
    "X = ndf[features[:-1]].astype(float)\n",
    "y = ndf['target'].apply(lambda x: cl[x])"
   ]
  },
  {
   "cell_type": "code",
   "execution_count": 397,
   "id": "39722af6-9189-4f36-9e34-dd08b2bdc8ed",
   "metadata": {},
   "outputs": [],
   "source": [
    "def get_key(val, my_dict):\n",
    "    for key, value in my_dict.items():\n",
    "        if val == value:\n",
    "            return key"
   ]
  },
  {
   "cell_type": "code",
   "execution_count": 402,
   "id": "8ade7197-c519-49b1-94c3-244ce4d000f0",
   "metadata": {},
   "outputs": [],
   "source": [
    "md = model(26, 42, 8).to(device)"
   ]
  },
  {
   "cell_type": "code",
   "execution_count": 403,
   "id": "b15a3c0d-3461-4f4a-b2db-a261be8e36db",
   "metadata": {},
   "outputs": [],
   "source": [
    "X_train, X_test, y_train, y_test = model_selection.train_test_split(X, y, test_size= 0.2, random_state = 42, stratify=y)"
   ]
  },
  {
   "cell_type": "code",
   "execution_count": 339,
   "id": "e9e48a87-9db9-45e2-9b18-066c585ccb45",
   "metadata": {},
   "outputs": [],
   "source": [
    "CUDA_LAUNCH_BLOCKING=1"
   ]
  },
  {
   "cell_type": "code",
   "execution_count": 408,
   "id": "fdd7850c-6d63-493b-962a-9a08462e22a5",
   "metadata": {},
   "outputs": [
    {
     "name": "stdout",
     "output_type": "stream",
     "text": [
      "Epoch [10/100], Step[50], Loss: 0.7406\n",
      "0.6288764609452809\n",
      "Epoch [20/100], Step[50], Loss: 0.7403\n",
      "0.6308310430564662\n",
      "Epoch [30/100], Step[50], Loss: 0.7395\n",
      "0.6290610493964277\n",
      "Epoch [40/100], Step[50], Loss: 0.7416\n",
      "0.6301215931072094\n",
      "Epoch [50/100], Step[50], Loss: 0.7387\n",
      "0.6329324142909368\n",
      "Epoch [60/100], Step[50], Loss: 0.7378\n",
      "0.6320860640782072\n",
      "Epoch [70/100], Step[50], Loss: 0.7387\n",
      "0.630029449363874\n",
      "Epoch [80/100], Step[50], Loss: 0.7382\n",
      "0.631991172737522\n",
      "Epoch [90/100], Step[50], Loss: 0.7387\n",
      "0.6302044161982789\n",
      "Epoch [100/100], Step[50], Loss: 0.7388\n",
      "0.6302026699726888\n"
     ]
    }
   ],
   "source": [
    "criterion = nn.CrossEntropyLoss()\n",
    "optimizer = torch.optim.Adam(md.parameters(), lr=0.000005) \n",
    "\n",
    "n_total_steps = len(X_train)\n",
    "for epoch in range(100):\n",
    "    for i in range(1, 50):  \n",
    "        md.train()\n",
    "        # origin shape: [100, 1, 28, 28]\n",
    "        # resized: [100, 784]\n",
    "        \n",
    "        data = torch.tensor(X_train.values, dtype = torch.float32)\n",
    "        data = data.to(device)\n",
    "\n",
    "        labels = torch.tensor(y_train.values)\n",
    "        labels = labels.to(device)\n",
    "        # Forward pass\n",
    "        outputs = md(data)\n",
    "        loss = criterion(outputs, labels)\n",
    "        # Backward and optimize\n",
    "        optimizer.zero_grad()\n",
    "        loss.backward()\n",
    "        optimizer.step() \n",
    "\n",
    "        if (epoch+1) % 10 == 0 and i == 49:\n",
    "            print (f'Epoch [{epoch+1}/{100}], Step[{i+1}], Loss: {loss.item():.4f}') \n",
    "\n",
    "    with torch.no_grad():\n",
    "        outs = md(torch.tensor(X_test.values, dtype = torch.float32).to(device))\n",
    "        _, predicted = torch.max(outs, 1)\n",
    "        pred = predicted.detach().cpu().numpy()\n",
    "        if (epoch+1) % 10 == 0:\n",
    "            print(f1_score(y_test, pred, average='weighted'))"
   ]
  },
  {
   "cell_type": "code",
   "execution_count": 409,
   "id": "ecfd2175-91b1-4980-b5a0-847ea2d169a6",
   "metadata": {},
   "outputs": [],
   "source": [
    "import copy \n",
    "\n",
    "X_t = copy.deepcopy(X)\n",
    "y_t = copy.deepcopy(y)"
   ]
  },
  {
   "cell_type": "code",
   "execution_count": 410,
   "id": "10233ccf-4136-4658-ba35-68f4b19c5029",
   "metadata": {},
   "outputs": [
    {
     "name": "stdout",
     "output_type": "stream",
     "text": [
      "0.6589049412003891\n"
     ]
    }
   ],
   "source": [
    "with torch.no_grad():\n",
    "    outs = md(torch.tensor(X_t.values, dtype = torch.float32).to(device))\n",
    "    _, predicted_all = torch.max(outs, 1)\n",
    "    preds = predicted_all.detach().cpu().numpy()\n",
    "    print(f1_score(y_t, preds, average='weighted'))\n",
    "\n",
    "fact= [get_key(x, cl) for x in y_t]\n",
    "lbl = [get_key(x, cl) for x in preds]"
   ]
  },
  {
   "cell_type": "code",
   "execution_count": 411,
   "id": "4478bb23-fc12-4eae-82ca-392c83620cd9",
   "metadata": {},
   "outputs": [],
   "source": [
    "X_t['pred'] = lbl\n",
    "X_t['fact'] = fact"
   ]
  },
  {
   "cell_type": "code",
   "execution_count": 422,
   "id": "242dccaf-2e03-4359-8587-ac4f056e7156",
   "metadata": {},
   "outputs": [],
   "source": [
    "torch.save(md.state_dict(), 'model/model_25_12.pth')"
   ]
  },
  {
   "cell_type": "code",
   "execution_count": 413,
   "id": "2503b3c5-fb2c-4cd5-9b98-fbb4fc95ec65",
   "metadata": {},
   "outputs": [
    {
     "data": {
      "text/plain": [
       "pred\n",
       "NO_CHANGE                             19518\n",
       "UPDATE_CAMPAIGN_BUDGET_AMOUNT_UP       8463\n",
       "UPDATE_CAMPAIGN_BUDGET_AMOUNT_DOWN     1848\n",
       "UPDATE_AD_GROUP_TARGET_CPA_UP          1821\n",
       "UPDATE_CAMPAIGN                        1021\n",
       "UPDATE_AD_GROUP_TARGET_CPA_DOWN         404\n",
       "Name: count, dtype: int64"
      ]
     },
     "execution_count": 413,
     "metadata": {},
     "output_type": "execute_result"
    }
   ],
   "source": [
    "X_t.loc[X_t.is_max_conversion==0]['pred'].value_counts()"
   ]
  },
  {
   "cell_type": "code",
   "execution_count": 414,
   "id": "3e385471-c5b3-4310-bd6a-57fe285799fa",
   "metadata": {},
   "outputs": [
    {
     "name": "stdout",
     "output_type": "stream",
     "text": [
      "                                    precision    recall  f1-score   support\n",
      "\n",
      "                         NO_CHANGE     0.6850    0.7872    0.7325     36037\n",
      "  UPDATE_CAMPAIGN_BUDGET_AMOUNT_UP     0.7158    0.7968    0.7541     22735\n",
      "                   UPDATE_CAMPAIGN     0.5772    0.3541    0.4389      6007\n",
      "                      STRATEGY_CPA     0.4858    0.1945    0.2778      2894\n",
      "     UPDATE_AD_GROUP_TARGET_CPA_UP     0.5082    0.3272    0.3980      2858\n",
      "UPDATE_CAMPAIGN_BUDGET_AMOUNT_DOWN     0.6759    0.4974    0.5731      2738\n",
      "   UPDATE_AD_GROUP_TARGET_CPA_DOWN     0.3907    0.0630    0.1086      2522\n",
      "               STRATEGY_CONVERSION     0.0000    0.0000    0.0000        40\n",
      "\n",
      "                          accuracy                         0.6809     75831\n",
      "                         macro avg     0.5048    0.3775    0.4104     75831\n",
      "                      weighted avg     0.6609    0.6809    0.6589     75831\n",
      "\n",
      "0.6589049412003891\n"
     ]
    }
   ],
   "source": [
    "pred = predicted_all.detach().cpu().numpy()\n",
    "print(classification_report(y_t, pred, target_names=cl.keys(), digits=4, zero_division=0))\n",
    "print(f1_score(y_t, pred, average='weighted'))"
   ]
  },
  {
   "cell_type": "code",
   "execution_count": 421,
   "id": "e73da360-28a9-4fe6-b1b4-ce1ff884b637",
   "metadata": {},
   "outputs": [
    {
     "name": "stdout",
     "output_type": "stream",
     "text": [
      "0.915786419801928\n"
     ]
    }
   ],
   "source": [
    "acc = 0\n",
    "is_two_sided = 0\n",
    "for index, row in X_t.iterrows():\n",
    "    pr, fct = row['pred'], row['fact']\n",
    "    if is_two_sided:\n",
    "        if pr in list(X_t['fact'][index-2:index+2]):\n",
    "            acc += 1\n",
    "    else:\n",
    "        if pr in list(X_t['fact'][index:index+2]):\n",
    "            acc += 1\n",
    "print(acc/len(X_t))"
   ]
  },
  {
   "cell_type": "code",
   "execution_count": null,
   "id": "b7f0f0b5-ca9c-4d89-a0b4-26f04ce560de",
   "metadata": {},
   "outputs": [],
   "source": []
  }
 ],
 "metadata": {
  "kernelspec": {
   "display_name": "Python 3 (ipykernel)",
   "language": "python",
   "name": "python3"
  },
  "language_info": {
   "codemirror_mode": {
    "name": "ipython",
    "version": 3
   },
   "file_extension": ".py",
   "mimetype": "text/x-python",
   "name": "python",
   "nbconvert_exporter": "python",
   "pygments_lexer": "ipython3",
   "version": "3.11.5"
  }
 },
 "nbformat": 4,
 "nbformat_minor": 5
}
